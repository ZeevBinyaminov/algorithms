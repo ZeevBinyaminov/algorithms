{
 "cells": [
  {
   "cell_type": "markdown",
   "metadata": {},
   "source": [
    "Алгоритм бинарного поиска - поиск индекса элемента. <br>\n",
    "Необходима отсортированная по возрастанию последовательность,<br> которая с каждой итерацией будет уменьшаться в два раза,\n",
    "<br> пока не найдет искомый индекс или не переберет всю последовательность."
   ]
  },
  {
   "cell_type": "code",
   "execution_count": 6,
   "metadata": {},
   "outputs": [],
   "source": [
    "lst = [i for i in range(0, 1000)]\n",
    "\n",
    "def binary_search(lst: list, item: int) -> int:\n",
    "    low = 0\n",
    "    high = len(lst) - 1\n",
    "     \n",
    "    while low <= high:\n",
    "        middle = (low + high) // 2\n",
    "        guess = lst[middle]\n",
    "        if guess == item:\n",
    "            return middle # базовый случай, нахождение искомого числа\n",
    "        if guess > item: \n",
    "            high = middle - 1 # отсекаем бОльшую (правую) половину\n",
    "        else:\n",
    "            low = middle + 1 # отсекаем меньшую (левую) половину\n",
    "    return None\n",
    "    "
   ]
  },
  {
   "cell_type": "code",
   "execution_count": 8,
   "metadata": {},
   "outputs": [
    {
     "data": {
      "text/plain": [
       "6"
      ]
     },
     "execution_count": 8,
     "metadata": {},
     "output_type": "execute_result"
    }
   ],
   "source": [
    "binary_search([1, 2, 3, 4, 5, 6, 7], 7)"
   ]
  },
  {
   "cell_type": "code",
   "execution_count": null,
   "metadata": {},
   "outputs": [],
   "source": []
  },
  {
   "cell_type": "code",
   "execution_count": 13,
   "metadata": {},
   "outputs": [],
   "source": [
    "# Моя реализация\n",
    "def binary_search(nums, search):\n",
    "    length = len(nums)\n",
    "    low = 0\n",
    "    high = length - 1\n",
    "    while low <= high:\n",
    "        middle = (low + high) // 2\n",
    "        if search == nums[middle]:\n",
    "            return middle\n",
    "        if search > nums[middle]:\n",
    "            low = middle + 1\n",
    "        else:\n",
    "            high = middle - 1\n",
    "    return None"
   ]
  },
  {
   "cell_type": "code",
   "execution_count": 16,
   "metadata": {},
   "outputs": [],
   "source": [
    "binary_search([1, 2, 4], -1)"
   ]
  }
 ],
 "metadata": {
  "kernelspec": {
   "display_name": "Python 3.10.5 64-bit (windows store)",
   "language": "python",
   "name": "python3"
  },
  "language_info": {
   "codemirror_mode": {
    "name": "ipython",
    "version": 3
   },
   "file_extension": ".py",
   "mimetype": "text/x-python",
   "name": "python",
   "nbconvert_exporter": "python",
   "pygments_lexer": "ipython3",
   "version": "3.10.6"
  },
  "orig_nbformat": 4,
  "vscode": {
   "interpreter": {
    "hash": "5446dcbb0f2df12f743acade3cf2cdaf2a348c67ba351a3a9921d96789447493"
   }
  }
 },
 "nbformat": 4,
 "nbformat_minor": 2
}
