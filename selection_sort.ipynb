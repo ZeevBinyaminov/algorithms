{
 "cells": [
  {
   "cell_type": "code",
   "execution_count": 5,
   "metadata": {},
   "outputs": [],
   "source": [
    "def find_smallest(arr: list) -> int: # нахождение индекса наименьшего элемента массива\n",
    "    smallest_elem = arr[0]\n",
    "    smallest_index = 0\n",
    "    for i in range(1, len(arr)):\n",
    "        if arr[i] < smallest_elem:\n",
    "            smallest_elem = arr[i]\n",
    "            smallest_index = i\n",
    "    return smallest_index\n",
    "    "
   ]
  },
  {
   "cell_type": "code",
   "execution_count": 6,
   "metadata": {},
   "outputs": [
    {
     "data": {
      "text/plain": [
       "7"
      ]
     },
     "execution_count": 6,
     "metadata": {},
     "output_type": "execute_result"
    }
   ],
   "source": [
    "find_smallest([0, 1, 2, 5, 3, 2, 1, -2, 32])"
   ]
  },
  {
   "cell_type": "code",
   "execution_count": 23,
   "metadata": {},
   "outputs": [],
   "source": [
    "def selection_sort(arr: list) -> list: # сортировка выбором с помощью нахождения индекса наименьшего элемента \n",
    "                                       # и последующего его переноса (удаления из старого и перенос в новый массивы)\n",
    "                                       # в новый массив элементов\n",
    "    sorted_arr = []\n",
    "    for i in range(len(arr)):\n",
    "        smallest = find_smallest(arr)\n",
    "        sorted_arr.append(arr.pop(smallest))\n",
    "    return sorted_arr"
   ]
  },
  {
   "cell_type": "code",
   "execution_count": 25,
   "metadata": {},
   "outputs": [
    {
     "data": {
      "text/plain": [
       "[-5, 1, 2, 3, 4, 5, 32, 321]"
      ]
     },
     "execution_count": 25,
     "metadata": {},
     "output_type": "execute_result"
    }
   ],
   "source": [
    "selection_sort([4, 2, 1, -5, 3, 5, 321, 32])"
   ]
  }
 ],
 "metadata": {
  "kernelspec": {
   "display_name": "Python 3.10.5 64-bit (windows store)",
   "language": "python",
   "name": "python3"
  },
  "language_info": {
   "codemirror_mode": {
    "name": "ipython",
    "version": 3
   },
   "file_extension": ".py",
   "mimetype": "text/x-python",
   "name": "python",
   "nbconvert_exporter": "python",
   "pygments_lexer": "ipython3",
   "version": "3.10.6"
  },
  "orig_nbformat": 4,
  "vscode": {
   "interpreter": {
    "hash": "5446dcbb0f2df12f743acade3cf2cdaf2a348c67ba351a3a9921d96789447493"
   }
  }
 },
 "nbformat": 4,
 "nbformat_minor": 2
}
