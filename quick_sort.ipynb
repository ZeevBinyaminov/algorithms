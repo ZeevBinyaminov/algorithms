{
 "cells": [
  {
   "cell_type": "code",
   "execution_count": 10,
   "metadata": {},
   "outputs": [],
   "source": [
    "def quick_sort(arr):\n",
    "    if len(arr) < 2:\n",
    "        return arr\n",
    "    # лучше в качестве опорного элемента выбирать случайный, выше вероятность лучшего (среднего) случая\n",
    "    pivot = arr[0] # опорный элемент, по нему числа будут делиться на 2 подмассива\n",
    "    less = [i for i in arr[1:] if i <= pivot] # <= потому что могут быть числа равные опорному элементу\n",
    "    greater = [i for i in arr[1:] if i > pivot]\n",
    "    return quick_sort(less) + [pivot] + quick_sort(greater)"
   ]
  },
  {
   "cell_type": "code",
   "execution_count": 11,
   "metadata": {},
   "outputs": [
    {
     "data": {
      "text/plain": [
       "[2, 3, 3, 3, 4, 4, 12]"
      ]
     },
     "execution_count": 11,
     "metadata": {},
     "output_type": "execute_result"
    }
   ],
   "source": [
    "quick_sort([3, 4, 2, 4, 12, 3, 3])"
   ]
  }
 ],
 "metadata": {
  "kernelspec": {
   "display_name": "Python 3.10.6 64-bit (microsoft store)",
   "language": "python",
   "name": "python3"
  },
  "language_info": {
   "codemirror_mode": {
    "name": "ipython",
    "version": 3
   },
   "file_extension": ".py",
   "mimetype": "text/x-python",
   "name": "python",
   "nbconvert_exporter": "python",
   "pygments_lexer": "ipython3",
   "version": "3.10.6"
  },
  "orig_nbformat": 4,
  "vscode": {
   "interpreter": {
    "hash": "5446dcbb0f2df12f743acade3cf2cdaf2a348c67ba351a3a9921d96789447493"
   }
  }
 },
 "nbformat": 4,
 "nbformat_minor": 2
}
